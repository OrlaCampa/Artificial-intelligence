{
  "nbformat": 4,
  "nbformat_minor": 0,
  "metadata": {
    "colab": {
      "provenance": [],
      "history_visible": true,
      "authorship_tag": "ABX9TyMmFbpQe8jgH+x0GkFKzeCE",
      "include_colab_link": true
    },
    "kernelspec": {
      "name": "python3",
      "display_name": "Python 3"
    },
    "language_info": {
      "name": "python"
    }
  },
  "cells": [
    {
      "cell_type": "markdown",
      "metadata": {
        "id": "view-in-github",
        "colab_type": "text"
      },
      "source": [
        "<a href=\"https://colab.research.google.com/github/OrlaCampa/Artificial-intelligence/blob/main/Hangman_game.ipynb\" target=\"_parent\"><img src=\"https://colab.research.google.com/assets/colab-badge.svg\" alt=\"Open In Colab\"/></a>"
      ]
    },
    {
      "cell_type": "code",
      "source": [
        "import random\n",
        "\n",
        "words = ['COMPUTER', 'STOP', 'INTERNET', 'NOTEBOOK', 'FIME', 'PYTHON', 'PUZZLE', 'BIOMEDICAL']\n",
        "\n",
        "def select_word():\n",
        "    return random.choice(words)\n",
        "\n",
        "def hangman_game():\n",
        "    word_to_guess = select_word().upper()\n",
        "    guessed_letters = ['_'] * len(word_to_guess)\n",
        "    max_attempts = 5\n",
        "    attempts = 0\n",
        "\n",
        "    print('Welcome to Hangman game!')\n",
        "    print('Guess the word: ' + ' '.join(guessed_letters))\n",
        "\n",
        "    while attempts < max_attempts:\n",
        "        letter = input('Enter a letter: ').upper()\n",
        "\n",
        "        if letter in guessed_letters:\n",
        "            print('You already guessed that letter. Try another one.')\n",
        "            continue\n",
        "\n",
        "        if letter in word_to_guess:\n",
        "            for i in range(len(word_to_guess)):\n",
        "                if word_to_guess[i] == letter:\n",
        "                    guessed_letters[i] = letter\n",
        "            print('You guessed a letter: ' + ' '.join(guessed_letters))\n",
        "\n",
        "            if '_' not in guessed_letters:\n",
        "                print('Congratulations! You guessed the word:', word_to_guess)\n",
        "                return\n",
        "\n",
        "        else:\n",
        "            attempts += 1\n",
        "            print('Incorrect letter. You have', max_attempts - attempts, 'attempts left.')\n",
        "\n",
        "    print('You lost. The word was:', word_to_guess)\n",
        "\n",
        "if __name__ == '__main__':\n",
        "    hangman_game()\n",
        "\n"
      ],
      "metadata": {
        "colab": {
          "base_uri": "https://localhost:8080/"
        },
        "id": "xhIJt71JDSB9",
        "outputId": "1e52e33a-a8a4-4623-c8fb-7e29bc90f601"
      },
      "execution_count": null,
      "outputs": [
        {
          "output_type": "stream",
          "name": "stdout",
          "text": [
            "Welcome to Hangman game!\n",
            "Guess the word: _ _ _ _\n",
            "Enter a letter: i\n",
            "You guessed a letter: _ I _ _\n",
            "Enter a letter: f\n",
            "You guessed a letter: F I _ _\n",
            "Enter a letter: m\n",
            "You guessed a letter: F I M _\n",
            "Enter a letter: e\n",
            "You guessed a letter: F I M E\n",
            "Congratulations! You guessed the word: FIME\n"
          ]
        }
      ]
    }
  ]
}