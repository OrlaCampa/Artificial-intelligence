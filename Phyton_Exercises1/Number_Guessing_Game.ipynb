{
  "nbformat": 4,
  "nbformat_minor": 0,
  "metadata": {
    "colab": {
      "provenance": [],
      "authorship_tag": "ABX9TyOt0w0wjEuXCdmqxuZT8DDY",
      "include_colab_link": true
    },
    "kernelspec": {
      "name": "python3",
      "display_name": "Python 3"
    },
    "language_info": {
      "name": "python"
    }
  },
  "cells": [
    {
      "cell_type": "markdown",
      "metadata": {
        "id": "view-in-github",
        "colab_type": "text"
      },
      "source": [
        "<a href=\"https://colab.research.google.com/github/OrlaCampa/Artificial-intelligence/blob/main/Number_Guessing_Game.ipynb\" target=\"_parent\"><img src=\"https://colab.research.google.com/assets/colab-badge.svg\" alt=\"Open In Colab\"/></a>"
      ]
    },
    {
      "cell_type": "code",
      "execution_count": null,
      "metadata": {
        "colab": {
          "base_uri": "https://localhost:8080/"
        },
        "id": "JEUOm3Z9NSIe",
        "outputId": "277cf4b4-7adb-4286-b038-127782b00f86"
      },
      "outputs": [
        {
          "output_type": "stream",
          "name": "stdout",
          "text": [
            "Welcome to the Number Guessing Game! I'm thinking of a number between 1 and 100.\n",
            "Enter your guess: 50\n",
            "Too low! Try a higher number.\n",
            "Enter your guess: 65\n",
            "Too low! Try a higher number.\n",
            "Enter your guess: 75\n",
            "Too low! Try a higher number.\n",
            "Enter your guess: 90\n",
            "Too high! Try a lower number.\n",
            "Enter your guess: 80\n",
            "Too low! Try a higher number.\n",
            "Enter your guess: 85\n",
            "Too high! Try a lower number.\n",
            "Enter your guess: 83\n",
            "Too low! Try a higher number.\n"
          ]
        }
      ],
      "source": [
        "import random\n",
        "\n",
        "def number_guessing_game():\n",
        "    target_number = random.randint(1, 100)\n",
        "    guess = None\n",
        "    attempts = 0\n",
        "\n",
        "    print(\"Welcome to the Number Guessing Game! I'm thinking of a number between 1 and 100.\")\n",
        "\n",
        "    while guess != target_number:\n",
        "        guess = int(input(\"Enter your guess: \"))\n",
        "        attempts += 1\n",
        "\n",
        "        if guess < target_number:\n",
        "            print(\"Too low! Try a higher number.\")\n",
        "        elif guess > target_number:\n",
        "            print(\"Too high! Try a lower number.\")\n",
        "        else:\n",
        "            print(f\"Congratulations! You guessed the number {target_number} in {attempts} attempts.\")\n",
        "\n",
        "if __name__ == \"__main__\":\n",
        "    number_guessing_game()"
      ]
    }
  ]
}
